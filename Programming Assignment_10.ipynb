{
 "cells": [
  {
   "cell_type": "markdown",
   "metadata": {},
   "source": [
    "## Python Basic Programming Assignment 10"
   ]
  },
  {
   "cell_type": "markdown",
   "metadata": {},
   "source": [
    "### 1. Write a Python program to find sum of elements in list?"
   ]
  },
  {
   "cell_type": "code",
   "execution_count": 56,
   "metadata": {},
   "outputs": [
    {
     "name": "stdout",
     "output_type": "stream",
     "text": [
      "21\n"
     ]
    }
   ],
   "source": [
    "a=[1,2,3,4,5,6]\n",
    "total=0\n",
    "for n in range(len(a)):\n",
    "    total=total +a[n]\n",
    "print(total)"
   ]
  },
  {
   "cell_type": "markdown",
   "metadata": {},
   "source": [
    "### 2. Write a Python program to  Multiply all numbers in the list?"
   ]
  },
  {
   "cell_type": "code",
   "execution_count": 48,
   "metadata": {},
   "outputs": [
    {
     "name": "stdout",
     "output_type": "stream",
     "text": [
      "3628800\n"
     ]
    }
   ],
   "source": [
    "a=[1,2,3,4,5,6,7,8,9,10]\n",
    "mul=1\n",
    "for i in a:\n",
    "    mul=mul*i\n",
    "print(mul)"
   ]
  },
  {
   "cell_type": "markdown",
   "metadata": {},
   "source": [
    "### 3. Write a Python program to find smallest number in a list?"
   ]
  },
  {
   "cell_type": "code",
   "execution_count": 76,
   "metadata": {},
   "outputs": [
    {
     "name": "stdout",
     "output_type": "stream",
     "text": [
      "[5, 10, 26, 50, 90, 98, 100, 200, 650, 980]\n",
      "The smallest element in the list is: 5\n"
     ]
    }
   ],
   "source": [
    "#Craete a list\n",
    "l=[90,10,5,100,200,650,980,50,98,26]\n",
    "#Sort the list acending order\n",
    "k=l.sort()\n",
    "#extract the first element in the list\n",
    "print(l)\n",
    "print(\"The smallest element in the list is:\",l[0])"
   ]
  },
  {
   "cell_type": "markdown",
   "metadata": {},
   "source": [
    "### 4. Write a Python program to find largest number in a list?"
   ]
  },
  {
   "cell_type": "code",
   "execution_count": 80,
   "metadata": {},
   "outputs": [
    {
     "name": "stdout",
     "output_type": "stream",
     "text": [
      "[5, 10, 26, 50, 90, 98, 100, 200, 650, 980]\n",
      "The largest element in the list is: 980\n"
     ]
    }
   ],
   "source": [
    "#Craete a list\n",
    "l=[90,10,5,100,200,650,980,50,98,26]\n",
    "#Sort the list acending order\n",
    "k=l.sort()\n",
    "#extract the last element in the list\n",
    "print(l)\n",
    "print(\"The largest element in the list is:\",l[-1])"
   ]
  },
  {
   "cell_type": "markdown",
   "metadata": {},
   "source": [
    "### 5. Write a Python program to find second largest number in a list?"
   ]
  },
  {
   "cell_type": "code",
   "execution_count": 82,
   "metadata": {},
   "outputs": [
    {
     "name": "stdout",
     "output_type": "stream",
     "text": [
      "[5, 10, 26, 50, 90, 98, 100, 200, 650, 980]\n",
      "The second largest element in the list is: 650\n"
     ]
    }
   ],
   "source": [
    "#Craete a list\n",
    "l=[90,10,5,100,200,650,980,50,98,26]\n",
    "#Sort the list acending order\n",
    "k=l.sort()\n",
    "#extract the second largest element in the list by passing -2 in the list\n",
    "print(l)\n",
    "print(\"The second largest element in the list is:\",l[-2])"
   ]
  },
  {
   "cell_type": "markdown",
   "metadata": {},
   "source": [
    "### 6. Write a Python program to find N largest elements from a list?"
   ]
  },
  {
   "cell_type": "code",
   "execution_count": 95,
   "metadata": {},
   "outputs": [
    {
     "name": "stdout",
     "output_type": "stream",
     "text": [
      "[90, 10, 5, 100, 200, 650, 980, 50, 98, 26]\n",
      "Enter N value:6\n",
      "The 6 largest elements from the list is: [90, 98, 100, 200, 650, 980]\n"
     ]
    }
   ],
   "source": [
    "#create a list\n",
    "l=[90,10,5,100,200,650,980,50,98,26]\n",
    "print(l)\n",
    "#The value of N\n",
    "N=int(input(\"Enter N value:\"))\n",
    "s=l.sort()\n",
    "print(\"The\",N,\"largest elements from the list is:\",l[-N:])"
   ]
  },
  {
   "cell_type": "markdown",
   "metadata": {},
   "source": [
    "### 7. Write a Python program to print even numbers in a list?"
   ]
  },
  {
   "cell_type": "code",
   "execution_count": 106,
   "metadata": {},
   "outputs": [
    {
     "name": "stdout",
     "output_type": "stream",
     "text": [
      "90\n",
      "10\n",
      "60\n",
      "980\n",
      "56\n",
      "98\n",
      "26\n"
     ]
    }
   ],
   "source": [
    "l=[90,1,10,5,7,113,205,60,980,56,98,26]\n",
    "for i in l:\n",
    "# checking the reminder of each the elements in the list is 0. In this way we can find the even numbers\n",
    "    if (i%2)==0:\n",
    "#If reminder is 0, then print the same numbers\n",
    "        print(i)\n",
    "    "
   ]
  },
  {
   "cell_type": "markdown",
   "metadata": {},
   "source": [
    "### 8. Write a Python program to print odd numbers in a List?"
   ]
  },
  {
   "cell_type": "code",
   "execution_count": 111,
   "metadata": {},
   "outputs": [
    {
     "name": "stdout",
     "output_type": "stream",
     "text": [
      "11\n",
      "13\n",
      "15\n",
      "17\n",
      "19\n"
     ]
    }
   ],
   "source": [
    "l=[10,11,12,13,14,15,16,17,18,19,20]\n",
    "for i in l:\n",
    "# checking the reminder is 1, for each element in the list. In this way we can finf the odd numbers\n",
    "    if (i%2)==1:\n",
    "        print(i)"
   ]
  },
  {
   "cell_type": "markdown",
   "metadata": {},
   "source": [
    "### 9. Write a Python program to Remove empty List from List?"
   ]
  },
  {
   "cell_type": "code",
   "execution_count": 122,
   "metadata": {},
   "outputs": [
    {
     "name": "stdout",
     "output_type": "stream",
     "text": [
      "[[1, 2, 3], [4, 5, 6], [7, 8, 9], [10, 11, 12]]\n"
     ]
    }
   ],
   "source": [
    "#The list consists of empty elements inside the list\n",
    "lis=[[1,2,3],[],[4,5,6],[],[7,8,9],[],[10,11,12]] \n",
    "#print the list inside the list if the lenght of the list is greater than 0\n",
    "print(list(filter(lambda i:len(i)>0,lis)))"
   ]
  },
  {
   "cell_type": "markdown",
   "metadata": {},
   "source": [
    "### 10. Write a Python program to Cloning or Copying a list?"
   ]
  },
  {
   "cell_type": "code",
   "execution_count": 123,
   "metadata": {},
   "outputs": [
    {
     "name": "stdout",
     "output_type": "stream",
     "text": [
      "[1, 2, 3, 4, 5, 6, 7, 8]\n",
      "[1, 2, 3, 4, 5, 6, 7, 8]\n"
     ]
    }
   ],
   "source": [
    "list1=[1,2,3,4,5,6,7,8]\n",
    "new_list=list(list1)\n",
    "print(list1)\n",
    "#Coppied list\n",
    "print(new_list)"
   ]
  },
  {
   "cell_type": "markdown",
   "metadata": {},
   "source": [
    "### 11. Write a Python program to Count occurrences of an element in a list?"
   ]
  },
  {
   "cell_type": "code",
   "execution_count": 138,
   "metadata": {},
   "outputs": [
    {
     "name": "stdout",
     "output_type": "stream",
     "text": [
      "The occurance of number 20 is 4\n",
      "The occurance of number 15 is 3\n"
     ]
    }
   ],
   "source": [
    "list2=[1,1,2,3,4,5,5,6,7,8,9,10,10,11,12,13,14,14,15,15,15,16,17,18,19,20,20,20,20]\n",
    "#To find the total number of occurrences of an element in a list,we can use count method: Eg: to see the occurance of 20&15 in list2\n",
    "print(\"The occurance of number 20 is\",list2.count(20))\n",
    "print(\"The occurance of number 15 is\",list2.count(15))"
   ]
  },
  {
   "cell_type": "code",
   "execution_count": null,
   "metadata": {},
   "outputs": [],
   "source": []
  }
 ],
 "metadata": {
  "kernelspec": {
   "display_name": "Python 3",
   "language": "python",
   "name": "python3"
  },
  "language_info": {
   "codemirror_mode": {
    "name": "ipython",
    "version": 3
   },
   "file_extension": ".py",
   "mimetype": "text/x-python",
   "name": "python",
   "nbconvert_exporter": "python",
   "pygments_lexer": "ipython3",
   "version": "3.8.5"
  }
 },
 "nbformat": 4,
 "nbformat_minor": 5
}
